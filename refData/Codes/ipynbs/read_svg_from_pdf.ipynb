{
 "cells": [
  {
   "cell_type": "code",
   "execution_count": 4,
   "id": "7a6e7f53-b97f-4321-95e7-cbee1aabb0fc",
   "metadata": {},
   "outputs": [],
   "source": [
    "import fitz  # PyMuPDF\n",
    "import xml.etree.ElementTree as ET\n",
    "import json\n",
    "import os"
   ]
  },
  {
   "cell_type": "code",
   "execution_count": null,
   "id": "25651a89-5ba5-4fce-816b-1c050bb8e546",
   "metadata": {},
   "outputs": [],
   "source": []
  },
  {
   "cell_type": "code",
   "execution_count": 2,
   "id": "d0bd8fd1-8436-49ff-a631-628e2080337d",
   "metadata": {},
   "outputs": [],
   "source": [
    "# !pip install pymupdf"
   ]
  },
  {
   "cell_type": "code",
   "execution_count": 5,
   "id": "06815998-86c2-4db5-9b17-10a3f4db5bbc",
   "metadata": {},
   "outputs": [],
   "source": [
    "# pdf_src = \"../../../Docs/ID_Phase/2D_spec.pdf\""
   ]
  },
  {
   "cell_type": "code",
   "execution_count": 6,
   "id": "af6e41b3-09e9-4e78-8608-0efa4335a368",
   "metadata": {},
   "outputs": [],
   "source": [
    "def pdf_to_svg(pdf_path, svg_path):\n",
    "    \"\"\"\n",
    "    讀取 PDF 檔案的第一頁並將其轉換為 SVG 格式，然後儲存到指定的路徑。\n",
    "\n",
    "    參數:\n",
    "    pdf_path (str): 輸入的 PDF 檔案路徑。\n",
    "    svg_path (str): 輸出的 SVG 檔案路徑。\n",
    "\n",
    "    返回:\n",
    "    str: SVG 圖像的內容字串。\n",
    "    \"\"\"\n",
    "    try:\n",
    "        doc = fitz.open(pdf_path)\n",
    "        if doc.page_count > 0:\n",
    "            page = doc.load_page(0)  # 讀取第一頁\n",
    "            # 將頁面轉換為 SVG 格式，禁用文字轉換為路徑以保留文字\n",
    "            svg_content = page.get_svg_image(text_as_path=False)\n",
    "            with open(svg_path, 'w', encoding='utf-8') as f:\n",
    "                f.write(svg_content)\n",
    "            print(f\"成功將 '{pdf_path}' 的第一頁儲存為 '{svg_path}'\")\n",
    "            return svg_content\n",
    "        else:\n",
    "            print(f\"錯誤：PDF 檔案 '{pdf_path}' 沒有頁面可供轉換。\")\n",
    "            return None\n",
    "    except Exception as e:\n",
    "        print(f\"處理 PDF 檔案 '{pdf_path}' 時發生錯誤：{e}\")\n",
    "        return None\n",
    "    finally:\n",
    "        if 'doc' in locals() and doc:\n",
    "            doc.close()"
   ]
  },
  {
   "cell_type": "code",
   "execution_count": 7,
   "id": "d0de6407-7566-42d6-bb18-947d9fc94a09",
   "metadata": {},
   "outputs": [],
   "source": [
    "def generate_svg_metadata(svg_content):\n",
    "    \"\"\"\n",
    "    從 SVG 內容字串中提取元數據。\n",
    "\n",
    "    參數:\n",
    "    svg_content (str): SVG 圖像的內容字串。\n",
    "\n",
    "    返回:\n",
    "    dict: 包含 SVG 元數據的字典 (width, height, viewBox, elements_count)。\n",
    "          如果解析失敗則返回 None。\n",
    "    \"\"\"\n",
    "    if not svg_content:\n",
    "        return None\n",
    "    try:\n",
    "        # 移除可能存在的 XML 宣告，避免 ET.fromstring 出錯\n",
    "        if svg_content.startswith(\"<?xml\"):\n",
    "            svg_content = svg_content.split(\"?>\", 1)[-1].strip()\n",
    "        \n",
    "        root = ET.fromstring(svg_content)\n",
    "        metadata = {\n",
    "            'width': root.attrib.get('width'),\n",
    "            'height': root.attrib.get('height'),\n",
    "            'viewBox': root.attrib.get('viewBox'),\n",
    "            'elements_count': len(list(root))  # 計算 SVG 根元素下的直接子元素數量\n",
    "        }\n",
    "        return metadata\n",
    "    except ET.ParseError as e:\n",
    "        print(f\"解析 SVG 內容時發生錯誤：{e}\")\n",
    "        # 嘗試從更外層的結構中提取 viewBox, width, height\n",
    "        # 這是一個備用方案，如果 PyMuPDF 輸出的 SVG 結構略有不同\n",
    "        try:\n",
    "            # 假設 SVG 內容可能包含在 <svg> 標籤內\n",
    "            import re\n",
    "            width_match = re.search(r'width=\"([^\"]+)\"', svg_content)\n",
    "            height_match = re.search(r'height=\"([^\"]+)\"', svg_content)\n",
    "            viewbox_match = re.search(r'viewBox=\"([^\"]+)\"', svg_content)\n",
    "            \n",
    "            if width_match and height_match and viewbox_match:\n",
    "                metadata_fallback = {\n",
    "                    'width': width_match.group(1),\n",
    "                    'height': height_match.group(1),\n",
    "                    'viewBox': viewbox_match.group(1),\n",
    "                    'elements_count': 'N/A (parsing error)' # 元素數量無法在此情況下準確計算\n",
    "                }\n",
    "                print(\"警告：使用備用方法提取元數據，elements_count 可能不準確。\")\n",
    "                return metadata_fallback\n",
    "            else:\n",
    "                return None\n",
    "        except Exception as fallback_e:\n",
    "            print(f\"備用解析 SVG 內容時也發生錯誤：{fallback_e}\")\n",
    "            return None\n",
    "    except Exception as e:\n",
    "        print(f\"生成 SVG 元數據時發生未知錯誤：{e}\")\n",
    "        return None"
   ]
  },
  {
   "cell_type": "code",
   "execution_count": 8,
   "id": "d74f5ec8-d9f7-4713-8483-b801accf6cad",
   "metadata": {},
   "outputs": [],
   "source": [
    "def main():\n",
    "    #\"../../../Docs/ID_Phase/2D_spec.pdf\"\n",
    "    pdf_file_path = '../../../Docs/ID_Phase/2D_spec.pdf'  # 您的 PDF 檔案名稱\n",
    "    svg_output_path = '2D_spec.svg' # 輸出的 SVG 檔案名稱\n",
    "\n",
    "    # 檢查 PDF 檔案是否存在\n",
    "    if not os.path.exists(pdf_file_path):\n",
    "        print(f\"錯誤：找不到 PDF 檔案 '{pdf_file_path}'。請確保檔案存在於正確的路徑。\")\n",
    "        # 根據搜索結果 [1]，檔案可能無法直接讀取，但假設執行環境可以找到它。\n",
    "        # 此處添加一個提示，如果檔案真的不存在，使用者會看到。\n",
    "        # 不過，既然其他程式碼都假設檔案存在，我們繼續。\n",
    "        # 如果您從一個上傳的檔案執行，請確保它已放置在程式可以存取的位置。\n",
    "\n",
    "    # 1. 讀取 PDF 並將圖像儲存為 SVG 格式\n",
    "    svg_image_content = pdf_to_svg(pdf_file_path, svg_output_path)\n",
    "\n",
    "    if svg_image_content:\n",
    "        # 2. 為 SVG 圖像生成元數據\n",
    "        metadata_dict = generate_svg_metadata(svg_image_content)\n",
    "\n",
    "        if metadata_dict:\n",
    "            # 3. 將元數據轉換為 JSON 格式並輸出\n",
    "            json_metadata = json.dumps(metadata_dict, indent=4)\n",
    "            print(\"\\nSVG 圖像的 JSON 元數據:\")\n",
    "            print(json_metadata)\n",
    "\n",
    "            # (可選) 將 JSON 元數據儲存到檔案\n",
    "            json_output_path = 'metadata.json'\n",
    "            try:\n",
    "                with open(json_output_path, 'w', encoding='utf-8') as f_json:\n",
    "                    json.dump(metadata_dict, f_json, indent=4)\n",
    "                print(f\"\\n元數據也已儲存至 '{json_output_path}'\")\n",
    "            except Exception as e:\n",
    "                print(f\"儲存 JSON 元數據到檔案時發生錯誤：{e}\")\n",
    "        else:\n",
    "            print(\"無法生成 SVG 元數據。\")\n",
    "    else:\n",
    "        print(f\"由於無法將 PDF 轉換為 SVG，因此無法生成元數據。\")\n",
    "    "
   ]
  },
  {
   "cell_type": "code",
   "execution_count": 9,
   "id": "11d5e9b0-b133-4f1c-b360-9fa37eebe74c",
   "metadata": {},
   "outputs": [
    {
     "name": "stdout",
     "output_type": "stream",
     "text": [
      "成功將 '../../../Docs/ID_Phase/2D_spec.pdf' 的第一頁儲存為 '2D_spec.svg'\n",
      "\n",
      "SVG 圖像的 JSON 元數據:\n",
      "{\n",
      "    \"width\": \"595\",\n",
      "    \"height\": \"842\",\n",
      "    \"viewBox\": \"0 0 595 842\",\n",
      "    \"elements_count\": 4674\n",
      "}\n",
      "\n",
      "元數據也已儲存至 'metadata.json'\n"
     ]
    }
   ],
   "source": [
    "main()"
   ]
  },
  {
   "cell_type": "code",
   "execution_count": null,
   "id": "39c0969e-d2b7-40cc-bba5-6079f03bcd5b",
   "metadata": {},
   "outputs": [],
   "source": []
  }
 ],
 "metadata": {
  "kernelspec": {
   "display_name": "Python 3 (ipykernel)",
   "language": "python",
   "name": "python3"
  },
  "language_info": {
   "codemirror_mode": {
    "name": "ipython",
    "version": 3
   },
   "file_extension": ".py",
   "mimetype": "text/x-python",
   "name": "python",
   "nbconvert_exporter": "python",
   "pygments_lexer": "ipython3",
   "version": "3.11.11"
  }
 },
 "nbformat": 4,
 "nbformat_minor": 5
}
